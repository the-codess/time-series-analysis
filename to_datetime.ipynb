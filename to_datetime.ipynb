{
  "nbformat": 4,
  "nbformat_minor": 0,
  "metadata": {
    "colab": {
      "name": "to_datetime.ipynb",
      "provenance": []
    },
    "kernelspec": {
      "name": "python3",
      "display_name": "Python 3"
    },
    "language_info": {
      "name": "python"
    }
  },
  "cells": [
    {
      "cell_type": "code",
      "execution_count": 1,
      "metadata": {
        "id": "K5PIJZKWPKFw"
      },
      "outputs": [],
      "source": [
        "import io\n",
        "import pandas as pd"
      ]
    },
    {
      "cell_type": "code",
      "source": [
        "dates = ['2021-12-29', 'Dec 29, 2021', '12/29/2021', '2021.12.29', '2021/12/29','20211229']\n",
        "pd.to_datetime(dates)"
      ],
      "metadata": {
        "colab": {
          "base_uri": "https://localhost:8080/"
        },
        "id": "gJjnP7VzVh4o",
        "outputId": "1fe37a0a-4e30-424b-c51e-29af0251b0bc"
      },
      "execution_count": 2,
      "outputs": [
        {
          "output_type": "execute_result",
          "data": {
            "text/plain": [
              "DatetimeIndex(['2021-12-29', '2021-12-29', '2021-12-29', '2021-12-29',\n",
              "               '2021-12-29', '2021-12-29'],\n",
              "              dtype='datetime64[ns]', freq=None)"
            ]
          },
          "metadata": {},
          "execution_count": 2
        }
      ]
    },
    {
      "cell_type": "code",
      "source": [
        "dt = ['2021-12-29 7:30:00 PM', 'Dec 29, 2021 19:30:00', '12/29/2021', '2021.12.29', '2021/12/29','20211229']\n",
        "pd.to_datetime(dt)"
      ],
      "metadata": {
        "colab": {
          "base_uri": "https://localhost:8080/"
        },
        "id": "TBzvsFHhVh3V",
        "outputId": "acdc7804-9b4c-4530-9662-f5c8aa8c79ac"
      },
      "execution_count": 3,
      "outputs": [
        {
          "output_type": "execute_result",
          "data": {
            "text/plain": [
              "DatetimeIndex(['2021-12-29 19:30:00', '2021-12-29 19:30:00',\n",
              "               '2021-12-29 00:00:00', '2021-12-29 00:00:00',\n",
              "               '2021-12-29 00:00:00', '2021-12-29 00:00:00'],\n",
              "              dtype='datetime64[ns]', freq=None)"
            ]
          },
          "metadata": {},
          "execution_count": 3
        }
      ]
    },
    {
      "cell_type": "markdown",
      "source": [
        "European style dates with day first"
      ],
      "metadata": {
        "id": "C4gABtZpWNJ9"
      }
    },
    {
      "cell_type": "code",
      "source": [
        "pd.to_datetime('30-12-2021')\n"
      ],
      "metadata": {
        "colab": {
          "base_uri": "https://localhost:8080/"
        },
        "id": "NZgy7w4GWJkw",
        "outputId": "6d04170b-e864-4268-d404-76b881b018e3"
      },
      "execution_count": 4,
      "outputs": [
        {
          "output_type": "execute_result",
          "data": {
            "text/plain": [
              "Timestamp('2021-12-30 00:00:00')"
            ]
          },
          "metadata": {},
          "execution_count": 4
        }
      ]
    },
    {
      "cell_type": "code",
      "source": [
        "pd.to_datetime('29-12-2021', dayfirst=True)"
      ],
      "metadata": {
        "colab": {
          "base_uri": "https://localhost:8080/"
        },
        "id": "RW0cmElkWUK-",
        "outputId": "6add66b7-db10-4d21-c6fd-ed4be95ec820"
      },
      "execution_count": 5,
      "outputs": [
        {
          "output_type": "execute_result",
          "data": {
            "text/plain": [
              "Timestamp('2021-12-29 00:00:00')"
            ]
          },
          "metadata": {},
          "execution_count": 5
        }
      ]
    },
    {
      "cell_type": "markdown",
      "source": [
        "Custom date time format"
      ],
      "metadata": {
        "id": "fclS_IHJWeUW"
      }
    },
    {
      "cell_type": "code",
      "source": [
        "pd.to_datetime('2021$12$29', format='%Y$%m$%d')\n"
      ],
      "metadata": {
        "colab": {
          "base_uri": "https://localhost:8080/"
        },
        "id": "ozGXud6_WbqC",
        "outputId": "0ccac405-e3d0-44ed-b5ce-e29c4f65f771"
      },
      "execution_count": 6,
      "outputs": [
        {
          "output_type": "execute_result",
          "data": {
            "text/plain": [
              "Timestamp('2021-12-29 00:00:00')"
            ]
          },
          "metadata": {},
          "execution_count": 6
        }
      ]
    },
    {
      "cell_type": "markdown",
      "source": [
        "Handling invalid dates\n"
      ],
      "metadata": {
        "id": "1Yhq5OdAWrxh"
      }
    },
    {
      "cell_type": "code",
      "source": [
        "pd.to_datetime(['2021-12-29', 'Dec 29, 2021', 'abc'], errors='ignore')"
      ],
      "metadata": {
        "colab": {
          "base_uri": "https://localhost:8080/"
        },
        "id": "OsGetFjSWrc7",
        "outputId": "046b1ec5-e03e-46c6-9631-b1a093ae574a"
      },
      "execution_count": 8,
      "outputs": [
        {
          "output_type": "execute_result",
          "data": {
            "text/plain": [
              "Index(['2021-12-29', 'Dec 29, 2021', 'abc'], dtype='object')"
            ]
          },
          "metadata": {},
          "execution_count": 8
        }
      ]
    },
    {
      "cell_type": "code",
      "source": [
        "pd.to_datetime(['2017-01-05', 'Jan 6, 2017', 'abc'], errors='coerce')\n"
      ],
      "metadata": {
        "id": "XDDpS1wVWrbo"
      },
      "execution_count": null,
      "outputs": []
    },
    {
      "cell_type": "markdown",
      "source": [
        "Epoch"
      ],
      "metadata": {
        "id": "CMztinEjY_KB"
      }
    },
    {
      "cell_type": "code",
      "source": [
        "current_epoch = 1640784752\n",
        "pd.to_datetime(current_epoch, unit='s')"
      ],
      "metadata": {
        "colab": {
          "base_uri": "https://localhost:8080/"
        },
        "id": "51LT3CgSWpfs",
        "outputId": "b22d8e46-bfea-4589-e961-16bc4fc5b2d0"
      },
      "execution_count": 9,
      "outputs": [
        {
          "output_type": "execute_result",
          "data": {
            "text/plain": [
              "Timestamp('2021-12-29 13:32:32')"
            ]
          },
          "metadata": {},
          "execution_count": 9
        }
      ]
    },
    {
      "cell_type": "code",
      "source": [
        "pd.to_datetime(current_epoch*1000, unit='ms')\n"
      ],
      "metadata": {
        "colab": {
          "base_uri": "https://localhost:8080/"
        },
        "id": "Y_yJ3owXZVqB",
        "outputId": "2fff3544-eff5-4086-df26-75054677178e"
      },
      "execution_count": 10,
      "outputs": [
        {
          "output_type": "execute_result",
          "data": {
            "text/plain": [
              "Timestamp('2021-12-29 13:32:32')"
            ]
          },
          "metadata": {},
          "execution_count": 10
        }
      ]
    },
    {
      "cell_type": "code",
      "source": [
        "t = pd.to_datetime([current_epoch], unit='s')\n",
        "t"
      ],
      "metadata": {
        "colab": {
          "base_uri": "https://localhost:8080/"
        },
        "id": "v24Kp0_AZYLB",
        "outputId": "28b9ca6b-23a0-4ea0-d813-f8fbdba56ae2"
      },
      "execution_count": 12,
      "outputs": [
        {
          "output_type": "execute_result",
          "data": {
            "text/plain": [
              "DatetimeIndex(['2021-12-29 13:32:32'], dtype='datetime64[ns]', freq=None)"
            ]
          },
          "metadata": {},
          "execution_count": 12
        }
      ]
    },
    {
      "cell_type": "code",
      "source": [
        "t.view('int64')\n"
      ],
      "metadata": {
        "colab": {
          "base_uri": "https://localhost:8080/"
        },
        "id": "8EQIZj3ZZdNC",
        "outputId": "43ee2625-f3b6-4166-a274-818960f07351"
      },
      "execution_count": 13,
      "outputs": [
        {
          "output_type": "execute_result",
          "data": {
            "text/plain": [
              "array([1640784752000000000])"
            ]
          },
          "metadata": {},
          "execution_count": 13
        }
      ]
    },
    {
      "cell_type": "code",
      "source": [
        ""
      ],
      "metadata": {
        "id": "1DGLf_0UZhUD"
      },
      "execution_count": null,
      "outputs": []
    }
  ]
}